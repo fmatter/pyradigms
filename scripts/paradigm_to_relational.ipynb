{
 "cells": [
  {
   "cell_type": "markdown",
   "id": "fa6f2fb2",
   "metadata": {},
   "source": [
    "# Getting traditional linguistic paradigms database-ready\n",
    "This is a brief illustration of `pyradigms`, a python tool for handling paradigms.\n",
    "The goal here is to convert a traditional linguistic paradigm into something more usable for computational approaches."
   ]
  },
  {
   "cell_type": "code",
   "execution_count": 1,
   "id": "322985e4",
   "metadata": {
    "scrolled": false
   },
   "outputs": [],
   "source": [
    "from pyradigms import Pyradigm\n",
    "import pandas as pd\n",
    "from IPython.display import display, Markdown"
   ]
  },
  {
   "cell_type": "markdown",
   "id": "2f79090c",
   "metadata": {},
   "source": [
    "Here's an icelandic paradigm in traditional format:"
   ]
  },
  {
   "cell_type": "code",
   "execution_count": 2,
   "id": "267b9e5c",
   "metadata": {},
   "outputs": [
    {
     "data": {
      "text/markdown": [
       "|        | 1     | 2     | 3M     | 3F     | 3N     |\n",
       "|:-------|:------|:------|:-------|:-------|:-------|\n",
       "| NOM.SG | ég    | þú    | hann   | hún    | það    |\n",
       "| ACC.SG | mig   | þig   | hann   | hana   | það    |\n",
       "| DAT.SG | mér   | þér   | honum  | henni  | því    |\n",
       "| GEN.SG | mín   | þín   | hans   | hennar | þess   |\n",
       "| NOM.PL | við   | þið   | þeir   | þær    | þau    |\n",
       "| ACC.PL | okkur | ykkur | þá     | þær    | þau    |\n",
       "| DAT.PL | okkur | ykkur | þeim   | þeim   | þeim   |\n",
       "| GEN.PL | okkar | ykkar | þeirra | þeirra | þeirra |"
      ],
      "text/plain": [
       "<IPython.core.display.Markdown object>"
      ]
     },
     "metadata": {},
     "output_type": "display_data"
    }
   ],
   "source": [
    "paradigm = pd.read_csv(\"../examples/icelandic_pronoun_paradigm.csv\", keep_default_na=False, index_col=0)\n",
    "display(Markdown(paradigm.to_markdown()))"
   ]
  },
  {
   "cell_type": "markdown",
   "id": "df436f79",
   "metadata": {},
   "source": [
    "We can give this to Pyradigms and let it know what parameters are reflected on what axis:"
   ]
  },
  {
   "cell_type": "code",
   "execution_count": 3,
   "id": "80033451",
   "metadata": {},
   "outputs": [],
   "source": [
    "pyd = Pyradigm.from_dataframe(paradigm, format=\"paradigm\", x=[\"Person\", \"Gender\"], y=[\"Case\", \"Number\"], separators=[\".\"], log_level=\"WARNING\")"
   ]
  },
  {
   "cell_type": "markdown",
   "id": "0442f52c",
   "metadata": {},
   "source": [
    "Pyradigms tries to decompose the paradigm, and stores it in wide format:"
   ]
  },
  {
   "cell_type": "code",
   "execution_count": 4,
   "id": "6fa60d35",
   "metadata": {},
   "outputs": [
    {
     "data": {
      "text/markdown": [
       "|    |   Person | Gender   | Case   | Number   | Form   |\n",
       "|---:|---------:|:---------|:-------|:---------|:-------|\n",
       "|  0 |        1 |          | NOM    | SG       | ég     |\n",
       "|  1 |        1 |          | ACC    | SG       | mig    |\n",
       "|  2 |        1 |          | DAT    | SG       | mér    |\n",
       "|  3 |        1 |          | GEN    | SG       | mín    |\n",
       "|  4 |        1 |          | NOM    | PL       | við    |\n",
       "|  5 |        1 |          | ACC    | PL       | okkur  |\n",
       "|  6 |        1 |          | DAT    | PL       | okkur  |\n",
       "|  7 |        1 |          | GEN    | PL       | okkar  |\n",
       "|  8 |        2 |          | NOM    | SG       | þú     |\n",
       "|  9 |        2 |          | ACC    | SG       | þig    |\n",
       "| 10 |        2 |          | DAT    | SG       | þér    |\n",
       "| 11 |        2 |          | GEN    | SG       | þín    |\n",
       "| 12 |        2 |          | NOM    | PL       | þið    |\n",
       "| 13 |        2 |          | ACC    | PL       | ykkur  |\n",
       "| 14 |        2 |          | DAT    | PL       | ykkur  |\n",
       "| 15 |        2 |          | GEN    | PL       | ykkar  |\n",
       "| 16 |        3 | M        | NOM    | SG       | hann   |\n",
       "| 17 |        3 | M        | ACC    | SG       | hann   |\n",
       "| 18 |        3 | M        | DAT    | SG       | honum  |\n",
       "| 19 |        3 | M        | GEN    | SG       | hans   |\n",
       "| 20 |        3 | M        | NOM    | PL       | þeir   |\n",
       "| 21 |        3 | M        | ACC    | PL       | þá     |\n",
       "| 22 |        3 | M        | DAT    | PL       | þeim   |\n",
       "| 23 |        3 | M        | GEN    | PL       | þeirra |\n",
       "| 24 |        3 | F        | NOM    | SG       | hún    |\n",
       "| 25 |        3 | F        | ACC    | SG       | hana   |\n",
       "| 26 |        3 | F        | DAT    | SG       | henni  |\n",
       "| 27 |        3 | F        | GEN    | SG       | hennar |\n",
       "| 28 |        3 | F        | NOM    | PL       | þær    |\n",
       "| 29 |        3 | F        | ACC    | PL       | þær    |\n",
       "| 30 |        3 | F        | DAT    | PL       | þeim   |\n",
       "| 31 |        3 | F        | GEN    | PL       | þeirra |\n",
       "| 32 |        3 | N        | NOM    | SG       | það    |\n",
       "| 33 |        3 | N        | ACC    | SG       | það    |\n",
       "| 34 |        3 | N        | DAT    | SG       | því    |\n",
       "| 35 |        3 | N        | GEN    | SG       | þess   |\n",
       "| 36 |        3 | N        | NOM    | PL       | þau    |\n",
       "| 37 |        3 | N        | ACC    | PL       | þau    |\n",
       "| 38 |        3 | N        | DAT    | PL       | þeim   |\n",
       "| 39 |        3 | N        | GEN    | PL       | þeirra |"
      ],
      "text/plain": [
       "<IPython.core.display.Markdown object>"
      ]
     },
     "metadata": {},
     "output_type": "display_data"
    }
   ],
   "source": [
    "display(Markdown(pyd.to_markdown(format=\"wide\")))"
   ]
  },
  {
   "cell_type": "markdown",
   "id": "e8f299ec",
   "metadata": {},
   "source": [
    "And from there, getting a long format is a trivial last step:"
   ]
  },
  {
   "cell_type": "code",
   "execution_count": 5,
   "id": "b99c6515",
   "metadata": {},
   "outputs": [
    {
     "data": {
      "text/markdown": [
       "|     | Form   | Parameter   | Value   |\n",
       "|----:|:-------|:------------|:--------|\n",
       "|   0 | ég     | Person      | 1       |\n",
       "|   1 | mig    | Person      | 1       |\n",
       "|   2 | mér    | Person      | 1       |\n",
       "|   3 | mín    | Person      | 1       |\n",
       "|   4 | við    | Person      | 1       |\n",
       "|   5 | okkur  | Person      | 1       |\n",
       "|   6 | okkur  | Person      | 1       |\n",
       "|   7 | okkar  | Person      | 1       |\n",
       "|   8 | þú     | Person      | 2       |\n",
       "|   9 | þig    | Person      | 2       |\n",
       "|  10 | þér    | Person      | 2       |\n",
       "|  11 | þín    | Person      | 2       |\n",
       "|  12 | þið    | Person      | 2       |\n",
       "|  13 | ykkur  | Person      | 2       |\n",
       "|  14 | ykkur  | Person      | 2       |\n",
       "|  15 | ykkar  | Person      | 2       |\n",
       "|  16 | hann   | Person      | 3       |\n",
       "|  17 | hann   | Person      | 3       |\n",
       "|  18 | honum  | Person      | 3       |\n",
       "|  19 | hans   | Person      | 3       |\n",
       "|  20 | þeir   | Person      | 3       |\n",
       "|  21 | þá     | Person      | 3       |\n",
       "|  22 | þeim   | Person      | 3       |\n",
       "|  23 | þeirra | Person      | 3       |\n",
       "|  24 | hún    | Person      | 3       |\n",
       "|  25 | hana   | Person      | 3       |\n",
       "|  26 | henni  | Person      | 3       |\n",
       "|  27 | hennar | Person      | 3       |\n",
       "|  28 | þær    | Person      | 3       |\n",
       "|  29 | þær    | Person      | 3       |\n",
       "|  30 | þeim   | Person      | 3       |\n",
       "|  31 | þeirra | Person      | 3       |\n",
       "|  32 | það    | Person      | 3       |\n",
       "|  33 | það    | Person      | 3       |\n",
       "|  34 | því    | Person      | 3       |\n",
       "|  35 | þess   | Person      | 3       |\n",
       "|  36 | þau    | Person      | 3       |\n",
       "|  37 | þau    | Person      | 3       |\n",
       "|  38 | þeim   | Person      | 3       |\n",
       "|  39 | þeirra | Person      | 3       |\n",
       "|  40 | ég     | Gender      |         |\n",
       "|  41 | mig    | Gender      |         |\n",
       "|  42 | mér    | Gender      |         |\n",
       "|  43 | mín    | Gender      |         |\n",
       "|  44 | við    | Gender      |         |\n",
       "|  45 | okkur  | Gender      |         |\n",
       "|  46 | okkur  | Gender      |         |\n",
       "|  47 | okkar  | Gender      |         |\n",
       "|  48 | þú     | Gender      |         |\n",
       "|  49 | þig    | Gender      |         |\n",
       "|  50 | þér    | Gender      |         |\n",
       "|  51 | þín    | Gender      |         |\n",
       "|  52 | þið    | Gender      |         |\n",
       "|  53 | ykkur  | Gender      |         |\n",
       "|  54 | ykkur  | Gender      |         |\n",
       "|  55 | ykkar  | Gender      |         |\n",
       "|  56 | hann   | Gender      | M       |\n",
       "|  57 | hann   | Gender      | M       |\n",
       "|  58 | honum  | Gender      | M       |\n",
       "|  59 | hans   | Gender      | M       |\n",
       "|  60 | þeir   | Gender      | M       |\n",
       "|  61 | þá     | Gender      | M       |\n",
       "|  62 | þeim   | Gender      | M       |\n",
       "|  63 | þeirra | Gender      | M       |\n",
       "|  64 | hún    | Gender      | F       |\n",
       "|  65 | hana   | Gender      | F       |\n",
       "|  66 | henni  | Gender      | F       |\n",
       "|  67 | hennar | Gender      | F       |\n",
       "|  68 | þær    | Gender      | F       |\n",
       "|  69 | þær    | Gender      | F       |\n",
       "|  70 | þeim   | Gender      | F       |\n",
       "|  71 | þeirra | Gender      | F       |\n",
       "|  72 | það    | Gender      | N       |\n",
       "|  73 | það    | Gender      | N       |\n",
       "|  74 | því    | Gender      | N       |\n",
       "|  75 | þess   | Gender      | N       |\n",
       "|  76 | þau    | Gender      | N       |\n",
       "|  77 | þau    | Gender      | N       |\n",
       "|  78 | þeim   | Gender      | N       |\n",
       "|  79 | þeirra | Gender      | N       |\n",
       "|  80 | ég     | Case        | NOM     |\n",
       "|  81 | mig    | Case        | ACC     |\n",
       "|  82 | mér    | Case        | DAT     |\n",
       "|  83 | mín    | Case        | GEN     |\n",
       "|  84 | við    | Case        | NOM     |\n",
       "|  85 | okkur  | Case        | ACC     |\n",
       "|  86 | okkur  | Case        | DAT     |\n",
       "|  87 | okkar  | Case        | GEN     |\n",
       "|  88 | þú     | Case        | NOM     |\n",
       "|  89 | þig    | Case        | ACC     |\n",
       "|  90 | þér    | Case        | DAT     |\n",
       "|  91 | þín    | Case        | GEN     |\n",
       "|  92 | þið    | Case        | NOM     |\n",
       "|  93 | ykkur  | Case        | ACC     |\n",
       "|  94 | ykkur  | Case        | DAT     |\n",
       "|  95 | ykkar  | Case        | GEN     |\n",
       "|  96 | hann   | Case        | NOM     |\n",
       "|  97 | hann   | Case        | ACC     |\n",
       "|  98 | honum  | Case        | DAT     |\n",
       "|  99 | hans   | Case        | GEN     |\n",
       "| 100 | þeir   | Case        | NOM     |\n",
       "| 101 | þá     | Case        | ACC     |\n",
       "| 102 | þeim   | Case        | DAT     |\n",
       "| 103 | þeirra | Case        | GEN     |\n",
       "| 104 | hún    | Case        | NOM     |\n",
       "| 105 | hana   | Case        | ACC     |\n",
       "| 106 | henni  | Case        | DAT     |\n",
       "| 107 | hennar | Case        | GEN     |\n",
       "| 108 | þær    | Case        | NOM     |\n",
       "| 109 | þær    | Case        | ACC     |\n",
       "| 110 | þeim   | Case        | DAT     |\n",
       "| 111 | þeirra | Case        | GEN     |\n",
       "| 112 | það    | Case        | NOM     |\n",
       "| 113 | það    | Case        | ACC     |\n",
       "| 114 | því    | Case        | DAT     |\n",
       "| 115 | þess   | Case        | GEN     |\n",
       "| 116 | þau    | Case        | NOM     |\n",
       "| 117 | þau    | Case        | ACC     |\n",
       "| 118 | þeim   | Case        | DAT     |\n",
       "| 119 | þeirra | Case        | GEN     |\n",
       "| 120 | ég     | Number      | SG      |\n",
       "| 121 | mig    | Number      | SG      |\n",
       "| 122 | mér    | Number      | SG      |\n",
       "| 123 | mín    | Number      | SG      |\n",
       "| 124 | við    | Number      | PL      |\n",
       "| 125 | okkur  | Number      | PL      |\n",
       "| 126 | okkur  | Number      | PL      |\n",
       "| 127 | okkar  | Number      | PL      |\n",
       "| 128 | þú     | Number      | SG      |\n",
       "| 129 | þig    | Number      | SG      |\n",
       "| 130 | þér    | Number      | SG      |\n",
       "| 131 | þín    | Number      | SG      |\n",
       "| 132 | þið    | Number      | PL      |\n",
       "| 133 | ykkur  | Number      | PL      |\n",
       "| 134 | ykkur  | Number      | PL      |\n",
       "| 135 | ykkar  | Number      | PL      |\n",
       "| 136 | hann   | Number      | SG      |\n",
       "| 137 | hann   | Number      | SG      |\n",
       "| 138 | honum  | Number      | SG      |\n",
       "| 139 | hans   | Number      | SG      |\n",
       "| 140 | þeir   | Number      | PL      |\n",
       "| 141 | þá     | Number      | PL      |\n",
       "| 142 | þeim   | Number      | PL      |\n",
       "| 143 | þeirra | Number      | PL      |\n",
       "| 144 | hún    | Number      | SG      |\n",
       "| 145 | hana   | Number      | SG      |\n",
       "| 146 | henni  | Number      | SG      |\n",
       "| 147 | hennar | Number      | SG      |\n",
       "| 148 | þær    | Number      | PL      |\n",
       "| 149 | þær    | Number      | PL      |\n",
       "| 150 | þeim   | Number      | PL      |\n",
       "| 151 | þeirra | Number      | PL      |\n",
       "| 152 | það    | Number      | SG      |\n",
       "| 153 | það    | Number      | SG      |\n",
       "| 154 | því    | Number      | SG      |\n",
       "| 155 | þess   | Number      | SG      |\n",
       "| 156 | þau    | Number      | PL      |\n",
       "| 157 | þau    | Number      | PL      |\n",
       "| 158 | þeim   | Number      | PL      |\n",
       "| 159 | þeirra | Number      | PL      |"
      ],
      "text/plain": [
       "<IPython.core.display.Markdown object>"
      ]
     },
     "metadata": {},
     "output_type": "display_data"
    }
   ],
   "source": [
    "display(Markdown(pyd.to_markdown(format=\"long\")))"
   ]
  }
 ],
 "metadata": {
  "kernelspec": {
   "display_name": "Python 3 (ipykernel)",
   "language": "python",
   "name": "python3"
  },
  "language_info": {
   "codemirror_mode": {
    "name": "ipython",
    "version": 3
   },
   "file_extension": ".py",
   "mimetype": "text/x-python",
   "name": "python",
   "nbconvert_exporter": "python",
   "pygments_lexer": "ipython3",
   "version": "3.9.5"
  }
 },
 "nbformat": 4,
 "nbformat_minor": 5
}
