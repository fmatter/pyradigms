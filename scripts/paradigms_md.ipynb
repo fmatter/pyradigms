{
 "cells": [
  {
   "cell_type": "code",
   "execution_count": 1,
   "id": "edc8516f",
   "metadata": {},
   "outputs": [
    {
     "name": "stdout",
     "output_type": "stream",
     "text": [
      "<class 'pandas.core.frame.DataFrame'>\n"
     ]
    }
   ],
   "source": [
    "from pyradigms import Pyradigm\n",
    "from IPython.display import display, Markdown, Latex\n",
    "pyd = Pyradigm.from_csv(\"../examples/latin_noun_entries_short.csv\")"
   ]
  },
  {
   "cell_type": "markdown",
   "id": "52136a39",
   "metadata": {},
   "source": [
    "# What's in a paradigm?\n",
    "\n",
    "## What's in the cells of a paradigm?\n",
    "Typically, a linguistic paradigm has **forms** in its cells that are somehow related to one another.\n",
    "For instance, this is a paradigm containing differently inflected forms of the Latin noun _aestus_ '':"
   ]
  },
  {
   "cell_type": "code",
   "execution_count": 2,
   "id": "98232a3d",
   "metadata": {
    "scrolled": true
   },
   "outputs": [
    {
     "name": "stdout",
     "output_type": "stream",
     "text": [
      "\u001b[37mDEBUG  \u001b[0m Composing a new paradigm from entries:\n",
      "     Noun     Form Case Number\n",
      "0  aestus   ajstus  NOM     SG\n",
      "1  aestus  ajstuːs  GEN     SG\n",
      "2  aestus  ajstuiː  DAT     SG\n",
      "3  aestus   ajstum  ACC     SG\n",
      "4  aestus   ajstus  VOC     SG\n",
      "(36 entries)\u001b[0m\n",
      "\u001b[37mDEBUG  \u001b[0m Filtering parameters:\n",
      "\tNoun: a, e, s, t, u, s\n",
      "\u001b[0m\n",
      "\u001b[37mDEBUG  \u001b[0m New entries:\n",
      "     Noun     Form Case Number\n",
      "0  aestus   ajstus  NOM     SG\n",
      "1  aestus  ajstuːs  GEN     SG\n",
      "2  aestus  ajstuiː  DAT     SG\n",
      "3  aestus   ajstum  ACC     SG\n",
      "4  aestus   ajstus  VOC     SG\n",
      "(12 entries)\u001b[0m\n",
      "\u001b[37mDEBUG  \u001b[0m New y id: [Case]\u001b[0m\n",
      "\u001b[37mDEBUG  \u001b[0m New x id: [Number]\u001b[0m\n",
      "\u001b[37mDEBUG  \u001b[0m Creating pivot table for [z], using [Number] for x axis and [Case] for y axis\u001b[0m\n"
     ]
    }
   ],
   "source": [
    "res = pyd.as_markdown(y=\"Case\", x=[\"Number\"], x_sort=[\"SG\", \"PL\"], y_sort = [\"NOM\", \"GEN\", \"ACC\", \"DAT\", \"ABL\", \"VOC\"], filters={\"Noun\": \"aestus\"})"
   ]
  },
  {
   "cell_type": "code",
   "execution_count": 3,
   "id": "5a428871",
   "metadata": {},
   "outputs": [
    {
     "data": {
      "text/markdown": [
       "| Case   | SG      | PL       |\n",
       "|:-------|:--------|:---------|\n",
       "| NOM    | ajstus  | ajstuːs  |\n",
       "| GEN    | ajstuːs | ajstuum  |\n",
       "| ACC    | ajstum  | ajstuːs  |\n",
       "| DAT    | ajstuiː | ajstibus |\n",
       "| ABL    | ajstuː  | ajstibus |\n",
       "| VOC    | ajstus  | ajstuːs  |"
      ],
      "text/plain": [
       "<IPython.core.display.Markdown object>"
      ]
     },
     "metadata": {},
     "output_type": "display_data"
    }
   ],
   "source": [
    "display(Markdown(res))"
   ]
  },
  {
   "cell_type": "markdown",
   "id": "47262c97",
   "metadata": {},
   "source": [
    "The forms in these cells are connected by the fact that they belong to the same **lexeme**.\n",
    "Overly structurally oriented linguists sometimes abstract away from concrete word forms, and only show the morph(eme)s that are different (or identical) between the cells:"
   ]
  },
  {
   "cell_type": "markdown",
   "id": "feddf281",
   "metadata": {},
   "source": [
    "This is intended to make visible the similarities between many different lexemes, making a more generalized statement.\n",
    "\n",
    "## What's on the axes of a paradigm?\n",
    "Typically, axes represent **inflectional categories**, such as in the Latin example above:\n",
    "The x axis represents the different **inflectional values** of the category 'case', and the y axis shows the different values of the category 'number'.\n",
    "However, this need not be so; a very common use of a paradigm is for **pronouns**, for example these XXX pronouns:\n"
   ]
  }
 ],
 "metadata": {
  "kernelspec": {
   "display_name": "Python 3 (ipykernel)",
   "language": "python",
   "name": "python3"
  },
  "language_info": {
   "codemirror_mode": {
    "name": "ipython",
    "version": 3
   },
   "file_extension": ".py",
   "mimetype": "text/x-python",
   "name": "python",
   "nbconvert_exporter": "python",
   "pygments_lexer": "ipython3",
   "version": "3.9.5"
  }
 },
 "nbformat": 4,
 "nbformat_minor": 5
}
